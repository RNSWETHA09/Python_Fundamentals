{
 "cells": [
  {
   "cell_type": "code",
   "execution_count": null,
   "metadata": {},
   "outputs": [],
   "source": [
    "Task1:\n",
    "    \n",
    "    T-Shirt: Write a function called make_shirt() that accepts a size\n",
    "        and the text of a message that should be printed on the shirt. \n",
    "        The function should print a sentence summarizing the size of the shirt and the message printed on it.\n",
    "\n",
    "********Call the function once using positional arguments to make a shirt. \n",
    "********Call the function a second time using keyword arguments."
   ]
  },
  {
   "cell_type": "code",
   "execution_count": 24,
   "metadata": {},
   "outputs": [],
   "source": [
    "def make_shirt(size,msg):\n",
    "    \"\"\"Display the size of the shirt with message\"\"\"\n",
    "    print(f\"Size of the shirt: {size}.\\n\")\n",
    "    print(f\"Message on the shirt:  {msg.upper()}.\\n\")"
   ]
  },
  {
   "cell_type": "code",
   "execution_count": 6,
   "metadata": {},
   "outputs": [
    {
     "name": "stdout",
     "output_type": "stream",
     "text": [
      "Size of the shirt: 24.\n",
      "\n",
      "Message on the shirt:  HELLO.\n",
      "\n"
     ]
    }
   ],
   "source": [
    "make_shirt(24,'hello')  #positional arguments"
   ]
  },
  {
   "cell_type": "code",
   "execution_count": 31,
   "metadata": {},
   "outputs": [
    {
     "name": "stdout",
     "output_type": "stream",
     "text": [
      "Size of the shirt: 38.\n",
      "\n",
      "Message on the shirt:  AWESOME GUY!!!.\n",
      "\n"
     ]
    }
   ],
   "source": [
    "make_shirt(msg='awesome guy!!!',size=38)      #keyword arguments"
   ]
  },
  {
   "cell_type": "code",
   "execution_count": null,
   "metadata": {},
   "outputs": [],
   "source": [
    "Task2:\n",
    "    \n",
    "Large Shirts: Modify the make_shirt() function so that shirts are large\n",
    "by default with a message that reads I love Python.\n",
    "\n",
    "*****Make a large shirt and a medium shirt with the default message, and a shirt of any size with a different message."
   ]
  },
  {
   "cell_type": "code",
   "execution_count": 27,
   "metadata": {},
   "outputs": [],
   "source": [
    "def make_difftypeshirt(msg2,msg1='I LOVE PYTHON'):  #default msg=I LOVE PYTHON\n",
    "    \"\"\"Display the type  of the shirt with message\"\"\"\n",
    "    shirt={'Large shirt':msg1,'Medium shirt':msg1,'T- shirt of size 36':msg2}\n",
    "    return shirt"
   ]
  },
  {
   "cell_type": "code",
   "execution_count": 28,
   "metadata": {},
   "outputs": [
    {
     "data": {
      "text/plain": [
       "{'Large shirt': 'I LOVE PYTHON',\n",
       " 'Medium shirt': 'I LOVE PYTHON',\n",
       " 'T- shirt of size 36': 'I LOVE INDIA'}"
      ]
     },
     "execution_count": 28,
     "metadata": {},
     "output_type": "execute_result"
    }
   ],
   "source": [
    "make_difftypeshirt('I LOVE INDIA')"
   ]
  },
  {
   "cell_type": "markdown",
   "metadata": {},
   "source": []
  },
  {
   "cell_type": "code",
   "execution_count": null,
   "metadata": {},
   "outputs": [],
   "source": [
    "Task3:\n",
    "    \n",
    "    Cities: Write a function called describe_city() that accepts the name of a city and its country. \n",
    "        The function should print a simple sentence, such as Reykjavik is in Iceland. \n",
    "********Give the parameter for the country a default value.\n",
    "********Call your function for three different cities, at least one of which is not in the default country. "
   ]
  },
  {
   "cell_type": "code",
   "execution_count": 18,
   "metadata": {},
   "outputs": [],
   "source": [
    "def describe_city(city,country='russia'):   #default country=Russia\n",
    "    \"\"\"display city and country details\"\"\"\n",
    "    print(f\"The {city.title()} is in {country.title()}.\")"
   ]
  },
  {
   "cell_type": "code",
   "execution_count": 19,
   "metadata": {},
   "outputs": [
    {
     "name": "stdout",
     "output_type": "stream",
     "text": [
      "The Moscow is in Russia.\n"
     ]
    }
   ],
   "source": [
    "describe_city('moscow') #city1"
   ]
  },
  {
   "cell_type": "code",
   "execution_count": 17,
   "metadata": {},
   "outputs": [
    {
     "name": "stdout",
     "output_type": "stream",
     "text": [
      "The Novosibirsk is in Russia.\n"
     ]
    }
   ],
   "source": [
    "describe_city('novosibirsk') #city2"
   ]
  },
  {
   "cell_type": "code",
   "execution_count": 20,
   "metadata": {},
   "outputs": [
    {
     "name": "stdout",
     "output_type": "stream",
     "text": [
      "The Hyderabad is in India.\n"
     ]
    }
   ],
   "source": [
    "describe_city('hyderabad','india') #city3"
   ]
  },
  {
   "cell_type": "code",
   "execution_count": null,
   "metadata": {},
   "outputs": [],
   "source": []
  }
 ],
 "metadata": {
  "kernelspec": {
   "display_name": "Python 3",
   "language": "python",
   "name": "python3"
  },
  "language_info": {
   "codemirror_mode": {
    "name": "ipython",
    "version": 3
   },
   "file_extension": ".py",
   "mimetype": "text/x-python",
   "name": "python",
   "nbconvert_exporter": "python",
   "pygments_lexer": "ipython3",
   "version": "3.7.6"
  }
 },
 "nbformat": 4,
 "nbformat_minor": 4
}
