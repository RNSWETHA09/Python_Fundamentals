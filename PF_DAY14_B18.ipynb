{
 "cells": [
  {
   "cell_type": "code",
   "execution_count": null,
   "metadata": {},
   "outputs": [],
   "source": [
    "Inroduction to constructor:(special method,magical method)"
   ]
  },
  {
   "cell_type": "code",
   "execution_count": null,
   "metadata": {},
   "outputs": [],
   "source": [
    "Defination: A constructor is used to initialize the things or invoke the things ...\n",
    "    \n",
    "99.99% you would be using this ***"
   ]
  },
  {
   "cell_type": "code",
   "execution_count": null,
   "metadata": {},
   "outputs": [],
   "source": []
  },
  {
   "cell_type": "code",
   "execution_count": null,
   "metadata": {},
   "outputs": [],
   "source": [
    " High level view :\n",
    "req :To design a dog class......!\n",
    "    \n",
    "    name,age of the dog it needs to accept......!\n",
    "    \n",
    "    sit method\n",
    "    \n",
    "    roll_over method\n",
    "    \n",
    "    sleep ...\n",
    "    \n",
    "    \n",
    "    ***WE HAVE TO USE DOUBLEUNDERSCORES****FOR CONSTRUCTOR!!"
   ]
  },
  {
   "cell_type": "code",
   "execution_count": 11,
   "metadata": {},
   "outputs": [],
   "source": [
    "class Dog:\n",
    "    \"\"\"A simple method to model a dog\"\"\"\n",
    "    def __init__(self,name,age):\n",
    "        \"\"\"initilize age and name attributes\"\"\"\n",
    "        self.name = name\n",
    "        self.age = age\n",
    "        print('it got excuted')\n",
    "\n",
    "    def  sit(self):\n",
    "        \"\"\"simulating a dog sitting in response to a command\"\"\"\n",
    "        print( f\"{self.name} is now sitting\")\n",
    "    \n",
    "    def roll_over(self):\n",
    "        \"\"\"simulate a rolling over response to a command\"\"\"\n",
    "        print(f\"{self.name}is now ROLLING and it is {self.age} old\")\n",
    "\n",
    "    def sleep(self):\n",
    "        \"\"\"Simulate a sleeping response to a command\"\"\"\n",
    "        print(f\"{self.name} is now sleeping\" )"
   ]
  },
  {
   "cell_type": "code",
   "execution_count": 7,
   "metadata": {},
   "outputs": [
    {
     "name": "stdout",
     "output_type": "stream",
     "text": [
      "it got excuted\n"
     ]
    }
   ],
   "source": [
    "aobj=Dog('rex',2) # run time passing of args"
   ]
  },
  {
   "cell_type": "code",
   "execution_count": 8,
   "metadata": {},
   "outputs": [
    {
     "name": "stdout",
     "output_type": "stream",
     "text": [
      "rex is now sitting\n"
     ]
    }
   ],
   "source": [
    "aobj.sit()"
   ]
  },
  {
   "cell_type": "code",
   "execution_count": 10,
   "metadata": {},
   "outputs": [
    {
     "name": "stdout",
     "output_type": "stream",
     "text": [
      "rexis now sleeping\n"
     ]
    }
   ],
   "source": [
    "aobj.sleep()"
   ]
  },
  {
   "cell_type": "code",
   "execution_count": 13,
   "metadata": {},
   "outputs": [
    {
     "name": "stdout",
     "output_type": "stream",
     "text": [
      "rexis now ROLLING\n"
     ]
    }
   ],
   "source": [
    "aobj.roll_over()"
   ]
  },
  {
   "cell_type": "code",
   "execution_count": null,
   "metadata": {},
   "outputs": [],
   "source": []
  }
 ],
 "metadata": {
  "kernelspec": {
   "display_name": "Python 3",
   "language": "python",
   "name": "python3"
  },
  "language_info": {
   "codemirror_mode": {
    "name": "ipython",
    "version": 3
   },
   "file_extension": ".py",
   "mimetype": "text/x-python",
   "name": "python",
   "nbconvert_exporter": "python",
   "pygments_lexer": "ipython3",
   "version": "3.7.6"
  }
 },
 "nbformat": 4,
 "nbformat_minor": 4
}
