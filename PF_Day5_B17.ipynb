{
 "cells": [
  {
   "cell_type": "code",
   "execution_count": null,
   "metadata": {},
   "outputs": [],
   "source": [
    "Introduction to for loops:"
   ]
  },
  {
   "cell_type": "code",
   "execution_count": null,
   "metadata": {},
   "outputs": [],
   "source": []
  },
  {
   "cell_type": "code",
   "execution_count": 1,
   "metadata": {},
   "outputs": [],
   "source": [
    "my_students = ['aaa','bbb','ccc','ddd','eee']"
   ]
  },
  {
   "cell_type": "code",
   "execution_count": 2,
   "metadata": {},
   "outputs": [
    {
     "name": "stdout",
     "output_type": "stream",
     "text": [
      "['aaa', 'bbb', 'ccc', 'ddd', 'eee']\n"
     ]
    }
   ],
   "source": [
    "print(my_students)"
   ]
  },
  {
   "cell_type": "code",
   "execution_count": 3,
   "metadata": {},
   "outputs": [
    {
     "data": {
      "text/plain": [
       "list"
      ]
     },
     "execution_count": 3,
     "metadata": {},
     "output_type": "execute_result"
    }
   ],
   "source": [
    "type(my_students)"
   ]
  },
  {
   "cell_type": "code",
   "execution_count": null,
   "metadata": {},
   "outputs": [],
   "source": []
  },
  {
   "cell_type": "code",
   "execution_count": null,
   "metadata": {},
   "outputs": [],
   "source": [
    "req:1----appreciate the students\n",
    "    2. iam looking forward to receive your practise file\n",
    "    3.to give a thankyou note for everyone showing interest in learning python"
   ]
  },
  {
   "cell_type": "code",
   "execution_count": 4,
   "metadata": {},
   "outputs": [
    {
     "name": "stdout",
     "output_type": "stream",
     "text": [
      "keep up the good work,Aaa\n"
     ]
    }
   ],
   "source": [
    "print(f\"keep up the good work,{my_students[0].title()}\")"
   ]
  },
  {
   "cell_type": "code",
   "execution_count": null,
   "metadata": {},
   "outputs": [],
   "source": []
  },
  {
   "cell_type": "code",
   "execution_count": null,
   "metadata": {},
   "outputs": [],
   "source": [
    "General syntax:***\n",
    "\n",
    "\n",
    "for tempvar in mainvar:\n",
    "    print(tempvar)"
   ]
  },
  {
   "cell_type": "code",
   "execution_count": 5,
   "metadata": {},
   "outputs": [
    {
     "name": "stdout",
     "output_type": "stream",
     "text": [
      "aaa\n",
      "bbb\n",
      "ccc\n",
      "ddd\n",
      "eee\n"
     ]
    }
   ],
   "source": [
    "for student in my_students:\n",
    "    print(student)"
   ]
  },
  {
   "cell_type": "code",
   "execution_count": 6,
   "metadata": {},
   "outputs": [
    {
     "name": "stdout",
     "output_type": "stream",
     "text": [
      "keep up the good work,aaa\n",
      "keep up the good work,bbb\n",
      "keep up the good work,ccc\n",
      "keep up the good work,ddd\n",
      "keep up the good work,eee\n"
     ]
    }
   ],
   "source": [
    "for student in my_students:\n",
    "    print(f\"keep up the good work,{student}\")"
   ]
  },
  {
   "cell_type": "code",
   "execution_count": 7,
   "metadata": {},
   "outputs": [
    {
     "name": "stdout",
     "output_type": "stream",
     "text": [
      "keep up the good work,aaa\n",
      "I am looking forward to receive your practise file for the day,aaa\n",
      "keep up the good work,bbb\n",
      "I am looking forward to receive your practise file for the day,bbb\n",
      "keep up the good work,ccc\n",
      "I am looking forward to receive your practise file for the day,ccc\n",
      "keep up the good work,ddd\n",
      "I am looking forward to receive your practise file for the day,ddd\n",
      "keep up the good work,eee\n",
      "I am looking forward to receive your practise file for the day,eee\n"
     ]
    }
   ],
   "source": [
    "for student in my_students:\n",
    "    print(f\"keep up the good work,{student}\")\n",
    "    print(f\"I am looking forward to receive your practise file for the day,{student}\")"
   ]
  },
  {
   "cell_type": "code",
   "execution_count": 8,
   "metadata": {},
   "outputs": [
    {
     "name": "stdout",
     "output_type": "stream",
     "text": [
      "keep up the good work,aaa.\n",
      "I am looking forward to receive your practise file for the day,aaa.\n",
      "\n",
      "keep up the good work,bbb.\n",
      "I am looking forward to receive your practise file for the day,bbb.\n",
      "\n",
      "keep up the good work,ccc.\n",
      "I am looking forward to receive your practise file for the day,ccc.\n",
      "\n",
      "keep up the good work,ddd.\n",
      "I am looking forward to receive your practise file for the day,ddd.\n",
      "\n",
      "keep up the good work,eee.\n",
      "I am looking forward to receive your practise file for the day,eee.\n",
      "\n"
     ]
    }
   ],
   "source": [
    "for student in my_students:\n",
    "    print(f\"keep up the good work,{student}.\")\n",
    "    print(f\"I am looking forward to receive your practise file for the day,{student}.\\n\")"
   ]
  },
  {
   "cell_type": "code",
   "execution_count": 9,
   "metadata": {},
   "outputs": [
    {
     "name": "stdout",
     "output_type": "stream",
     "text": [
      "keep up the good work,aaa.\n",
      "I am looking forward to receive your practise file for the day,aaa.\n",
      "\n",
      "keep up the good work,bbb.\n",
      "I am looking forward to receive your practise file for the day,bbb.\n",
      "\n",
      "keep up the good work,ccc.\n",
      "I am looking forward to receive your practise file for the day,ccc.\n",
      "\n",
      "keep up the good work,ddd.\n",
      "I am looking forward to receive your practise file for the day,ddd.\n",
      "\n",
      "keep up the good work,eee.\n",
      "I am looking forward to receive your practise file for the day,eee.\n",
      "\n",
      "Thanks everyone for showing interset in learning python\n"
     ]
    }
   ],
   "source": [
    "for student in my_students:\n",
    "    print(f\"keep up the good work,{student}.\")\n",
    "    print(f\"I am looking forward to receive your practise file for the day,{student}.\\n\")\n",
    "print('Thanks everyone for showing interset in learning python')"
   ]
  },
  {
   "cell_type": "code",
   "execution_count": null,
   "metadata": {},
   "outputs": [],
   "source": [
    "\n",
    "\n",
    "\n",
    "Introduction to if conditions"
   ]
  },
  {
   "cell_type": "code",
   "execution_count": null,
   "metadata": {},
   "outputs": [],
   "source": [
    "-----understanding conditional statments:"
   ]
  },
  {
   "cell_type": "code",
   "execution_count": null,
   "metadata": {},
   "outputs": [],
   "source": [
    "on occurance of an event,something would be happening---->\n",
    "event----is rain ----raining---be at home\n",
    "no rain---go out."
   ]
  },
  {
   "cell_type": "code",
   "execution_count": 12,
   "metadata": {},
   "outputs": [],
   "source": [
    "cars=['audi','bmw','tata','benz']"
   ]
  },
  {
   "cell_type": "code",
   "execution_count": null,
   "metadata": {},
   "outputs": [],
   "source": [
    "req:if it is bmw---->caps-----BMW\n",
    "    \n",
    "    rest all others it want to print in----titlecase\n",
    "    \n",
    "    \n",
    "    =---->it is assignment\n",
    "    \n",
    "    ==-->it is used for equality testing"
   ]
  },
  {
   "cell_type": "code",
   "execution_count": 15,
   "metadata": {},
   "outputs": [
    {
     "name": "stdout",
     "output_type": "stream",
     "text": [
      "Audi\n",
      "BMW\n",
      "Tata\n",
      "Benz\n"
     ]
    }
   ],
   "source": [
    "for car in cars:\n",
    "    if car =='bmw': #equality testing\n",
    "       print(car.upper())\n",
    "    else:\n",
    "        print(car.title())"
   ]
  },
  {
   "cell_type": "code",
   "execution_count": null,
   "metadata": {},
   "outputs": [],
   "source": []
  }
 ],
 "metadata": {
  "kernelspec": {
   "display_name": "Python 3",
   "language": "python",
   "name": "python3"
  },
  "language_info": {
   "codemirror_mode": {
    "name": "ipython",
    "version": 3
   },
   "file_extension": ".py",
   "mimetype": "text/x-python",
   "name": "python",
   "nbconvert_exporter": "python",
   "pygments_lexer": "ipython3",
   "version": "3.7.6"
  }
 },
 "nbformat": 4,
 "nbformat_minor": 4
}
